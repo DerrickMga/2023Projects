{
  "nbformat": 4,
  "nbformat_minor": 0,
  "metadata": {
    "colab": {
      "provenance": [],
      "authorship_tag": "ABX9TyO2PWF8PIKUvMRIlY8zUqmV",
      "include_colab_link": true
    },
    "kernelspec": {
      "name": "python3",
      "display_name": "Python 3"
    },
    "language_info": {
      "name": "python"
    }
  },
  "cells": [
    {
      "cell_type": "markdown",
      "metadata": {
        "id": "view-in-github",
        "colab_type": "text"
      },
      "source": [
        "<a href=\"https://colab.research.google.com/github/DerrickMga/2023Projects/blob/main/Audio_Transcription.ipynb\" target=\"_parent\"><img src=\"https://colab.research.google.com/assets/colab-badge.svg\" alt=\"Open In Colab\"/></a>"
      ]
    },
    {
      "cell_type": "code",
      "execution_count": null,
      "metadata": {
        "id": "nQq-E-UAV34X"
      },
      "outputs": [],
      "source": [
        "from flask import Flask, request\n",
        "import requests\n",
        "import openai\n",
        "\n",
        "app = Flask(__name__)\n",
        "\n",
        "ACCESS_TOKEN = \"your_meta_access_token\"\n",
        "PHONE_NUMBER_ID = \"your_phone_number_id\"\n",
        "\n",
        "# Download audio file\n",
        "def download_audio(media_id):\n",
        "    url = f\"https://graph.facebook.com/v15.0/{media_id}\"\n",
        "    headers = {\"Authorization\": f\"Bearer {ACCESS_TOKEN}\"}\n",
        "    response = requests.get(url, headers=headers)\n",
        "    if response.status_code == 200:\n",
        "        audio_url = response.json().get(\"url\")\n",
        "        audio_response = requests.get(audio_url, headers=headers)\n",
        "        return audio_response.content\n",
        "    else:\n",
        "        raise Exception(f\"Error fetching audio: {response.json()}\")\n",
        "\n",
        "# Transcribe audio using Whisper\n",
        "def transcribe_audio(audio_content):\n",
        "    openai.api_key = \"your_openai_api_key\"\n",
        "    response = openai.Audio.transcribe(\n",
        "        model=\"whisper-1\",\n",
        "        file=audio_content,\n",
        "        response_format=\"text\"\n",
        "    )\n",
        "    return response[\"text\"]\n",
        "\n",
        "# Send response to WhatsApp\n",
        "def send_whatsapp_message(recipient, message):\n",
        "    url = f\"https://graph.facebook.com/v15.0/{PHONE_NUMBER_ID}/messages\"\n",
        "    headers = {\"Authorization\": f\"Bearer {ACCESS_TOKEN}\", \"Content-Type\": \"application/json\"}\n",
        "    payload = {\n",
        "        \"messaging_product\": \"whatsapp\",\n",
        "        \"to\": recipient,\n",
        "        \"type\": \"text\",\n",
        "        \"text\": {\"body\": message}\n",
        "    }\n",
        "    response = requests.post(url, headers=headers, json=payload)\n",
        "    if response.status_code != 200:\n",
        "        print(f\"Error sending message: {response.json()}\")\n",
        "\n",
        "@app.route('/webhook', methods=['POST'])\n",
        "def webhook():\n",
        "    data = request.json\n",
        "    if \"messages\" in data[\"entry\"][0][\"changes\"][0][\"value\"]:\n",
        "        message = data[\"entry\"][0][\"changes\"][0][\"value\"][\"messages\"][0]\n",
        "        if message[\"type\"] == \"audio\":\n",
        "            media_id = message[\"audio\"][\"id\"]\n",
        "            sender = message[\"from\"]\n",
        "\n",
        "            # Process audio\n",
        "            audio_content = download_audio(media_id)\n",
        "            transcription = transcribe_audio(audio_content)\n",
        "\n",
        "            # Send transcription back to user\n",
        "            send_whatsapp_message(sender, transcription)\n",
        "\n",
        "    return \"OK\", 200\n",
        "\n",
        "if __name__ == '__main__':\n",
        "    app.run(debug=True)\n"
      ]
    }
  ]
}